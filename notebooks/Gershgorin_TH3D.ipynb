{
 "cells": [
  {
   "cell_type": "code",
   "execution_count": 1,
   "metadata": {},
   "outputs": [],
   "source": [
    "from sympy import *"
   ]
  },
  {
   "cell_type": "markdown",
   "metadata": {},
   "source": [
    "This derivation does not include the boundary conditions, could be improved. "
   ]
  },
  {
   "cell_type": "code",
   "execution_count": 2,
   "metadata": {},
   "outputs": [
    {
     "name": "stdout",
     "output_type": "stream",
     "text": [
      "abs(kE ./ dx .^ 2) + abs(kW ./ dx .^ 2) + abs(kN ./ dy .^ 2) + abs(kS ./ dy .^ 2) + abs(kB ./ dz .^ 2) + abs(kF ./ dz .^ 2) + abs((kB ./ dz + kF ./ dz) ./ dz + (kN ./ dy + kS ./ dy) ./ dy + (kE ./ dx + kW ./ dx) ./ dx + rhoC .* transient ./ dt)\n"
     ]
    }
   ],
   "source": [
    "TC, TC0, TW, TE, TS, TN, TB, TF = symbols('TC, TC0, TW, TE, TS, TN, TB, TF')\n",
    "dx, dy, dz, dt = symbols('dx, dy, dz, dt')\n",
    "rhoC, transient = symbols('rhoC, transient')\n",
    "kW, kE, kS, kN, kB, kF = symbols('kW, kE, kS, kN, kB, kF')\n",
    "\n",
    "qW = -kW*(TC - TW)/dx\n",
    "qE = -kE*(TE - TC)/dx\n",
    "qS = -kS*(TC - TS)/dy\n",
    "qN = -kN*(TN - TC)/dy\n",
    "qB = -kB*(TC - TB)/dz\n",
    "qF = -kF*(TF - TC)/dz\n",
    "\n",
    "F  = transient*rhoC*(TC - TC0)/dt + (qE - qW)/dx + (qN - qS)/dy + (qF - qB)/dz\n",
    "G  = abs(F.diff(TC))\n",
    "G += abs(F.diff(TW))\n",
    "G += abs(F.diff(TE))\n",
    "G += abs(F.diff(TS))\n",
    "G += abs(F.diff(TN))\n",
    "G += abs(F.diff(TB))\n",
    "G += abs(F.diff(TF))\n",
    "print(julia_code(G))"
   ]
  },
  {
   "cell_type": "markdown",
   "metadata": {},
   "source": [
    "For the fluid pressure continuity, the derivative of the fluid density with regard to presssure is needed"
   ]
  },
  {
   "cell_type": "code",
   "execution_count": 3,
   "metadata": {},
   "outputs": [
    {
     "data": {
      "text/plain": [
       "'-7.372e-15 * T_C .^ 3 + 8.036e-21 * T_C .^ 2 .* p + 7.485e-12 * T_C .^ 2 + 4.083e-26 * T_C .* p .^ 2 - 3.586e-17 * T_C .* p + 4.547e-9 * T_C - 5.852e-32 * p .^ 3 + 4.353e-23 * p .^ 2 - 8.882e-15 * p + 7.424e-7'"
      ]
     },
     "execution_count": 3,
     "metadata": {},
     "output_type": "execute_result"
    }
   ],
   "source": [
    "p, T_C = symbols(\"p,T_C\")\n",
    "rho = 1006+(7.424e-7*p)+(-0.3922*T_C)+(-4.441e-15*p**2)+(4.547e-9*p*T_C)+(-0.003774*T_C**2)+(1.451e-23*p**3)+(-1.793e-17*p**2*T_C)+(7.485e-12*p*T_C**2)+(2.955e-6*T_C**3)+(-1.463e-32*p**4)+(1.361e-26*p**3*T_C)+(4.018e-21*(p**2)*(T_C**2))+(-7.372e-15*p*T_C**3)+(5.698e-11*T_C**4)\n",
    "julia_code(rho.diff(p))    \n"
   ]
  },
  {
   "cell_type": "code",
   "execution_count": null,
   "metadata": {},
   "outputs": [],
   "source": []
  }
 ],
 "metadata": {
  "kernelspec": {
   "display_name": "Python 3",
   "language": "python",
   "name": "python3"
  },
  "language_info": {
   "codemirror_mode": {
    "name": "ipython",
    "version": 3
   },
   "file_extension": ".py",
   "mimetype": "text/x-python",
   "name": "python",
   "nbconvert_exporter": "python",
   "pygments_lexer": "ipython3",
   "version": "3.9.6"
  }
 },
 "nbformat": 4,
 "nbformat_minor": 2
}
